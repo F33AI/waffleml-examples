{
 "cells": [
  {
   "cell_type": "markdown",
   "metadata": {},
   "source": [
    "# Setup"
   ]
  },
  {
   "cell_type": "code",
   "execution_count": 1,
   "metadata": {},
   "outputs": [],
   "source": [
    "import importlib\n",
    "import os\n",
    "import sys"
   ]
  },
  {
   "cell_type": "code",
   "execution_count": 2,
   "metadata": {},
   "outputs": [
    {
     "name": "stdout",
     "output_type": "stream",
     "text": [
      "/workspaces/f33-gcp-mlops/examples/kaggle_store_item_demand_forecasting/models/xgb_ar\n"
     ]
    }
   ],
   "source": [
    "print(os.getcwd())"
   ]
  },
  {
   "cell_type": "code",
   "execution_count": 3,
   "metadata": {},
   "outputs": [],
   "source": [
    "os.environ[\"GOOGLE_APPLICATION_CREDENTIALS\"]=\"/workspaces/.gcp/waffleml_dev_key.json\""
   ]
  },
  {
   "cell_type": "code",
   "execution_count": 4,
   "metadata": {},
   "outputs": [],
   "source": [
    "if not \"model\" in sys.modules:\n",
    "    model = importlib.import_module(\"model\", package=\".\")\n",
    "    helpers = importlib.import_module(\"wml_helpers\")\n",
    "else:\n",
    "    model = importlib.reload(model)\n",
    "    pass"
   ]
  },
  {
   "cell_type": "code",
   "execution_count": 5,
   "metadata": {},
   "outputs": [],
   "source": [
    "sys.argv = [\n",
    "   \"wml_wrapper.py\",   \n",
    "   \"train\",\n",
    "   \"--training_data_path\",\"gs://f33-mlops/experiments/kaggle-store-item-demand-forecasting/folds/perf_1_hyper_2_train.csv\",\n",
    "   \"--encoded_hyperparameters\", \"ml__n_estimators:int=10;ml__learning_rate:float=0.04060464247785402;ml__subsample:float=0.5833628685682365\",\n",
    "   \"--export_path\",  \"gs://f33-mlops/experiments/kaggle-store-item-demand-forecasting/dev\"\n",
    "]"
   ]
  },
  {
   "cell_type": "code",
   "execution_count": 6,
   "metadata": {},
   "outputs": [],
   "source": [
    "stage = helpers.parse_stage()\n",
    "args = helpers.parse_arguments_by_stage(stage)"
   ]
  },
  {
   "cell_type": "code",
   "execution_count": 7,
   "metadata": {},
   "outputs": [
    {
     "name": "stdout",
     "output_type": "stream",
     "text": [
      "Downloading training data...\n"
     ]
    }
   ],
   "source": [
    "print(\"Downloading training data...\")\n",
    "trainig_data_local_path = helpers.get_filename_from_path(      \n",
    "    args.training_data_path)"
   ]
  },
  {
   "cell_type": "code",
   "execution_count": 8,
   "metadata": {},
   "outputs": [],
   "source": [
    "helpers.get_file_from_bucket(args.training_data_path,\n",
    "                                trainig_data_local_path)\n",
    "hyper_parameters = helpers.parse_hyper_parameters(\n",
    "    args.encoded_hyperparameters)"
   ]
  },
  {
   "cell_type": "code",
   "execution_count": 12,
   "metadata": {},
   "outputs": [
    {
     "name": "stderr",
     "output_type": "stream",
     "text": [
      "2022-10-19 20:12:29,697 - xgb_ar - INFO - Load & transform data...\n"
     ]
    },
    {
     "name": "stdout",
     "output_type": "stream",
     "text": [
      "Triggering training method ...\n"
     ]
    },
    {
     "name": "stderr",
     "output_type": "stream",
     "text": [
      "2022-10-19 20:12:46,541 - xgb_ar - INFO - done. Training model...\n"
     ]
    },
    {
     "name": "stdout",
     "output_type": "stream",
     "text": [
      "[0]\tvalidation_0-mae:49.74206\n",
      "[1]\tvalidation_0-mae:47.72276\n",
      "[2]\tvalidation_0-mae:45.78588\n",
      "[3]\tvalidation_0-mae:43.92739\n",
      "[4]\tvalidation_0-mae:42.14384\n",
      "[5]\tvalidation_0-mae:40.43295\n",
      "[6]\tvalidation_0-mae:38.79173\n",
      "[7]\tvalidation_0-mae:37.21727\n",
      "[8]\tvalidation_0-mae:35.70619\n",
      "[9]\tvalidation_0-mae:34.25763\n"
     ]
    },
    {
     "name": "stderr",
     "output_type": "stream",
     "text": [
      "2022-10-19 20:12:51,664 - xgb_ar - INFO - done. Exporting model...\n",
      "2022-10-19 20:12:51,798 - xgb_ar - INFO - done.\n"
     ]
    },
    {
     "name": "stdout",
     "output_type": "stream",
     "text": [
      "Finished!\n"
     ]
    }
   ],
   "source": [
    "print(\"Triggering training method ...\")\n",
    "artifact_local_path = model.train(trainig_data_local_path,\n",
    "                                    hyper_parameters)\n",
    "print(\"Finished!\")"
   ]
  },
  {
   "cell_type": "code",
   "execution_count": 12,
   "metadata": {},
   "outputs": [
    {
     "name": "stdout",
     "output_type": "stream",
     "text": [
      "Uploading generated artifact to Cloud Storage\n",
      "Exiting.\n",
      "gs://f33-mlops/experiments/kaggle-store-item-demand-forecasting/dev/model.joblib\n"
     ]
    }
   ],
   "source": [
    "if artifact_local_path is not None:\n",
    "    print(\"Uploading generated artifact to Cloud Storage\")\n",
    "    artifact_bucket_path = helpers.get_output_bucket_file_path(\n",
    "        stage, args.export_path)\n",
    "    helpers.upload_file_to_bucket(artifact_local_path, artifact_bucket_path)\n",
    "    print(\"Exiting.\")\n",
    "    print(artifact_bucket_path)"
   ]
  },
  {
   "cell_type": "markdown",
   "metadata": {},
   "source": [
    "## Predict"
   ]
  },
  {
   "cell_type": "code",
   "execution_count": 13,
   "metadata": {},
   "outputs": [],
   "source": [
    "sys.argv = [\n",
    "   \"wml_wrapper.py\",\n",
    "   \"pred\",\n",
    "   \"--model_path\", \"gs://f33-mlops/experiments/kaggle-store-item-demand-forecasting/dev/model.joblib\",\n",
    "   \"--test_data_path\", \"gs://f33-mlops/experiments/kaggle-store-item-demand-forecasting/folds/perf_1_hyper_2_test.csv\",\n",
    "   \"--export_path\",  \"gs://f33-mlops/experiments/kaggle-store-item-demand-forecasting/dev\"\n",
    "]"
   ]
  },
  {
   "cell_type": "code",
   "execution_count": 14,
   "metadata": {},
   "outputs": [],
   "source": [
    "stage = helpers.parse_stage()\n",
    "args = helpers.parse_arguments_by_stage(stage)"
   ]
  },
  {
   "cell_type": "code",
   "execution_count": 15,
   "metadata": {},
   "outputs": [
    {
     "name": "stdout",
     "output_type": "stream",
     "text": [
      "Downloading input files...\n"
     ]
    }
   ],
   "source": [
    "print(\"Downloading input files...\")\n",
    "\n",
    "# Download test data\n",
    "test_data_local_path = helpers.get_filename_from_path(\n",
    "    args.test_data_path)\n",
    "helpers.get_file_from_bucket(args.test_data_path,\n",
    "                             test_data_local_path)"
   ]
  },
  {
   "cell_type": "code",
   "execution_count": 16,
   "metadata": {},
   "outputs": [],
   "source": [
    "# Download model\n",
    "model_local_path = helpers.get_filename_from_path(args.model_path)\n",
    "helpers.get_file_from_bucket(args.model_path, model_local_path)"
   ]
  },
  {
   "cell_type": "code",
   "execution_count": 17,
   "metadata": {},
   "outputs": [
    {
     "name": "stderr",
     "output_type": "stream",
     "text": [
      "2022-10-19 19:19:02,847 - xgb_ar - INFO - Import model...\n",
      "2022-10-19 19:19:02,967 - xgb_ar - INFO - done. Load & transform data...\n"
     ]
    },
    {
     "name": "stdout",
     "output_type": "stream",
     "text": [
      "Running prediciton ...\n"
     ]
    },
    {
     "name": "stderr",
     "output_type": "stream",
     "text": [
      "2022-10-19 19:19:03,448 - xgb_ar - INFO - done. Generate predictions...\n",
      "2022-10-19 19:19:03,535 - xgb_ar - INFO - done. Export predictions to csv file...\n",
      "2022-10-19 19:19:03,632 - xgb_ar - INFO - done\n"
     ]
    },
    {
     "name": "stdout",
     "output_type": "stream",
     "text": [
      "Finished!\n"
     ]
    }
   ],
   "source": [
    "print(\"Running prediciton ...\")\n",
    "artifact_local_path = model.predict(test_data_local_path,\n",
    "                                    model_local_path)\n",
    "print(\"Finished!\")"
   ]
  },
  {
   "cell_type": "code",
   "execution_count": 18,
   "metadata": {},
   "outputs": [
    {
     "name": "stdout",
     "output_type": "stream",
     "text": [
      "Uploading generated artifact to Cloud Storage\n",
      "Exiting.\n",
      "gs://f33-mlops/experiments/kaggle-store-item-demand-forecasting/dev/predictions.csv\n"
     ]
    }
   ],
   "source": [
    "if artifact_local_path is not None:\n",
    "    print(\"Uploading generated artifact to Cloud Storage\")\n",
    "    artifact_bucket_path = helpers.get_output_bucket_file_path(\n",
    "        stage, args.export_path)\n",
    "    helpers.upload_file_to_bucket(artifact_local_path, artifact_bucket_path)\n",
    "    print(\"Exiting.\")\n",
    "    print(artifact_bucket_path) "
   ]
  },
  {
   "cell_type": "markdown",
   "metadata": {},
   "source": [
    "## Eval"
   ]
  },
  {
   "cell_type": "code",
   "execution_count": 20,
   "metadata": {},
   "outputs": [],
   "source": [
    "sys.argv = [\n",
    "   \"wml_wrapper.py\",\n",
    "   \"eval\",\n",
    "   \"--predictions_path\", \"gs://f33-mlops/experiments/kaggle-store-item-demand-forecasting/dev/predictions.csv\",\n",
    "   \"--ground_truth_path\", \"gs://f33-mlops/experiments/kaggle-store-item-demand-forecasting/folds/perf_1_hyper_2_test.csv\",\n",
    "   \"--export_path\",  \"gs://f33-mlops/experiments/kaggle-store-item-demand-forecasting/dev\"\n",
    "]"
   ]
  },
  {
   "cell_type": "code",
   "execution_count": 21,
   "metadata": {},
   "outputs": [],
   "source": [
    "stage = helpers.parse_stage()\n",
    "args = helpers.parse_arguments_by_stage(stage)"
   ]
  },
  {
   "cell_type": "code",
   "execution_count": 22,
   "metadata": {},
   "outputs": [
    {
     "name": "stdout",
     "output_type": "stream",
     "text": [
      "Running evaluation ...\n",
      "Finished!\n"
     ]
    }
   ],
   "source": [
    "ground_truth_local_path = helpers.get_filename_from_path(\n",
    "    args.ground_truth_path)\n",
    "helpers.get_file_from_bucket(args.ground_truth_path,\n",
    "                                ground_truth_local_path)\n",
    "\n",
    "# Download predictions\n",
    "predictions_local_path = helpers.get_filename_from_path(\n",
    "    args.predictions_path)\n",
    "helpers.get_file_from_bucket(args.predictions_path,\n",
    "                                predictions_local_path)\n",
    "\n",
    "print(\"Running evaluation ...\")\n",
    "artifact_local_path = model.evaluate(ground_truth_local_path,\n",
    "                                        predictions_local_path)\n",
    "print(\"Finished!\")"
   ]
  },
  {
   "cell_type": "code",
   "execution_count": null,
   "metadata": {},
   "outputs": [],
   "source": [
    "import yaml\n",
    "from pathlib import Path\n",
    "\n",
    "output_file=\"test.yaml\"\n",
    "with open(output_file, \"w\") as outfile:\n",
    "    yaml.dump({ \"mae\":0.24, \"mse\":0.6}, outfile, default_flow_style=True)\n",
    "\n",
    "\n",
    "metrics = yaml.safe_load(open(\"metrics.yaml\"))\n",
    "print(metrics)"
   ]
  },
  {
   "cell_type": "code",
   "execution_count": null,
   "metadata": {},
   "outputs": [],
   "source": [
    "if artifact_local_path is not None:\n",
    "    print(\"Uploading generated artifact to Cloud Storage\")\n",
    "    artifact_bucket_path = helpers.get_output_bucket_file_path(\n",
    "        stage, args.export_path)\n",
    "    helpers.upload_file_to_bucket(artifact_local_path, artifact_bucket_path)\n",
    "    print(\"Exiting.\") "
   ]
  }
 ],
 "metadata": {
  "kernelspec": {
   "display_name": "Python 3.8.14 64-bit",
   "language": "python",
   "name": "python3"
  },
  "language_info": {
   "codemirror_mode": {
    "name": "ipython",
    "version": 3
   },
   "file_extension": ".py",
   "mimetype": "text/x-python",
   "name": "python",
   "nbconvert_exporter": "python",
   "pygments_lexer": "ipython3",
   "version": "3.8.14"
  },
  "orig_nbformat": 4,
  "vscode": {
   "interpreter": {
    "hash": "949777d72b0d2535278d3dc13498b2535136f6dfe0678499012e853ee9abcab1"
   }
  }
 },
 "nbformat": 4,
 "nbformat_minor": 2
}
