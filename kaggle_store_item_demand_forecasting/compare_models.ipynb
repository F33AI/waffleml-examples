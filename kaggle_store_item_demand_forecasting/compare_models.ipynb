{
 "cells": [
  {
   "cell_type": "code",
   "execution_count": 1,
   "metadata": {},
   "outputs": [],
   "source": [
    "import os\n",
    "from typing import Any\n",
    "import pandas as pd\n",
    "from waffleml.modules.experiments import VertexExperiment\n",
    "from waffleml.results_analysis import retrieve_inputs_outputs, get_pipeline_runs, get_run_metadata, \\\n",
    "    retrieve_artifacts, retrieve_final_model, retrieve_hyper_parameters, get_hyperparameters, get_metrics\n",
    "from waffleml.modules.storage import GoogleCloudStorage as storage\n",
    "import numpy as np\n",
    "import pandas as pd"
   ]
  },
  {
   "cell_type": "code",
   "execution_count": 2,
   "metadata": {},
   "outputs": [],
   "source": [
    "os.environ[\"GOOGLE_APPLICATION_CREDENTIALS\"]=\"/Users/witj/.google/service_accounts/waffleml_dev_key.json\""
   ]
  },
  {
   "cell_type": "code",
   "execution_count": 3,
   "metadata": {},
   "outputs": [],
   "source": [
    "experiment = VertexExperiment(\"common-codebase\")"
   ]
  },
  {
   "cell_type": "code",
   "execution_count": 4,
   "metadata": {},
   "outputs": [],
   "source": [
    "MODELS = [\"tomorrow_is_today\", \"lgbm_baseline\", \"xgb_ar\"]"
   ]
  },
  {
   "cell_type": "code",
   "execution_count": 11,
   "metadata": {},
   "outputs": [],
   "source": [
    "fields={\"model\": \"xgb_baseline\", \"phase\": {\"name\": \"hyper\"}}\n",
    "\n",
    "hyper_runs = get_pipeline_runs(experiment, fields)"
   ]
  },
  {
   "cell_type": "code",
   "execution_count": 12,
   "metadata": {},
   "outputs": [
    {
     "data": {
      "text/plain": [
       "[]"
      ]
     },
     "execution_count": 12,
     "metadata": {},
     "output_type": "execute_result"
    }
   ],
   "source": [
    "hyper_runs"
   ]
  },
  {
   "cell_type": "code",
   "execution_count": null,
   "metadata": {},
   "outputs": [],
   "source": [
    "def hyper_leaderboard_score(model_name, experiment):\n",
    "    fields={\"model\": model_name, \"phase\": {\"name\": \"hyper\"}}\n",
    "    hyper_runs = get_pipeline_runs(experiment, fields)\n",
    "    scores = []\n",
    "    for run in hyper_runs:\n",
    "        run_metadata = get_run_metadata(run.display_name)\n",
    "        run_artifacts = retrieve_inputs_outputs(run)\n",
    "        metric = run_artifacts[\"outputs\"][\"metrics\"][\"mae\"]\n",
    "        print(f\"{model_name} / hyper fold:{run_metadata['hyper']} -> mae: {metric}\")\n",
    "        scores.append(metric)\n",
    "    print(f\"{model_name} / average mae / {np.mean(scores)}\")\n",
    "    return np.mean(scores)"
   ]
  },
  {
   "cell_type": "code",
   "execution_count": null,
   "metadata": {},
   "outputs": [],
   "source": [
    "leaderboard = pd.DataFrame({ \"model\" : MODELS, \"metric\" : [hyper_leaderboard_score(mn, experiment) for mn in MODELS]})"
   ]
  },
  {
   "cell_type": "code",
   "execution_count": null,
   "metadata": {},
   "outputs": [],
   "source": [
    "leaderboard.sort_values(by=\"metric\", ascending=True)"
   ]
  }
 ],
 "metadata": {
  "kernelspec": {
   "display_name": "venv",
   "language": "python",
   "name": "python3"
  },
  "language_info": {
   "codemirror_mode": {
    "name": "ipython",
    "version": 3
   },
   "file_extension": ".py",
   "mimetype": "text/x-python",
   "name": "python",
   "nbconvert_exporter": "python",
   "pygments_lexer": "ipython3",
   "version": "3.8.11 (default, Jul 29 2021, 14:57:32) \n[Clang 12.0.0 ]"
  },
  "orig_nbformat": 4,
  "vscode": {
   "interpreter": {
    "hash": "091cc5421190ce6775a38b134fe6c5f1b93bb20cc760583e408097e3a2ae679a"
   }
  }
 },
 "nbformat": 4,
 "nbformat_minor": 2
}
